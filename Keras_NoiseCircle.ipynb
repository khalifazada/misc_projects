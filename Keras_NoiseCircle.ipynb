{
  "nbformat": 4,
  "nbformat_minor": 0,
  "metadata": {
    "colab": {
      "name": "Keras - NoiseCircle.ipynb",
      "version": "0.3.2",
      "provenance": []
    },
    "kernelspec": {
      "name": "python3",
      "display_name": "Python 3"
    },
    "accelerator": "GPU"
  },
  "cells": [
    {
      "metadata": {
        "id": "sRyju3XKOfDf",
        "colab_type": "text"
      },
      "cell_type": "markdown",
      "source": [
        "# Imports"
      ]
    },
    {
      "metadata": {
        "id": "bfiRcqJVOC7Q",
        "colab_type": "code",
        "colab": {
          "base_uri": "https://localhost:8080/",
          "height": 140
        },
        "outputId": "23a8ab30-42dd-4e53-99e1-2b2efe54caef"
      },
      "cell_type": "code",
      "source": [
        "!pip install https://files.pythonhosted.org/packages/aa/53/858c95f2994356e237d1fa4008f2675c871dbdd1a25cb52029c5c4ea1c85/synthetic_datasets-0.1.11-py3-none-any.whl\n",
        "import keras\n",
        "import numpy as np\n",
        "import matplotlib.pyplot as plt\n",
        "import random, math\n",
        "from matplotlib import animation, rc\n",
        "from IPython.display import HTML\n"
      ],
      "execution_count": 0,
      "outputs": [
        {
          "output_type": "stream",
          "text": [
            "Collecting synthetic-datasets==0.1.11 from https://files.pythonhosted.org/packages/aa/53/858c95f2994356e237d1fa4008f2675c871dbdd1a25cb52029c5c4ea1c85/synthetic_datasets-0.1.11-py3-none-any.whl\n",
            "  Downloading https://files.pythonhosted.org/packages/aa/53/858c95f2994356e237d1fa4008f2675c871dbdd1a25cb52029c5c4ea1c85/synthetic_datasets-0.1.11-py3-none-any.whl\n",
            "Requirement already satisfied: numpy in /usr/local/lib/python3.6/dist-packages (from synthetic-datasets==0.1.11) (1.14.5)\n",
            "Installing collected packages: synthetic-datasets\n",
            "Successfully installed synthetic-datasets-0.1.11\n"
          ],
          "name": "stdout"
        },
        {
          "output_type": "stream",
          "text": [
            "Using TensorFlow backend.\n"
          ],
          "name": "stderr"
        }
      ]
    },
    {
      "metadata": {
        "id": "xDiX9fXr2f3a",
        "colab_type": "text"
      },
      "cell_type": "markdown",
      "source": [
        "# Boring methods"
      ]
    },
    {
      "metadata": {
        "id": "fKwEbU_X2frn",
        "colab_type": "code",
        "colab": {}
      },
      "cell_type": "code",
      "source": [
        "%matplotlib inline\n",
        "\n",
        "BATCH_SIZE = 12\n",
        "\n",
        "plt.rcParams['image.cmap'] = 'viridis'\n",
        "\n",
        "def plot_dataset(data):\n",
        "    fig, ax = plt.subplots()\n",
        "\n",
        "    def init():\n",
        "        ax.cla()\n",
        "        return ()\n",
        "\n",
        "    def animate(i):\n",
        "        ax.imshow(data[i%len(data)])\n",
        "        return ()\n",
        "\n",
        "    anim = animation.FuncAnimation(fig, animate, init_func=init, frames=BATCH_SIZE, interval=700, blit=True)\n",
        "    plt.close(fig)\n",
        "    fig.set_size_inches(12, 12, True)\n",
        "    return HTML(anim.to_jshtml())\n",
        "\n",
        "  \n",
        "def add_circle(data, xpos, ypos, radius, darkness, width):\n",
        "    NUM_CIRCLE_DOTS = 600\n",
        "    TWO_PI = 6.2838\n",
        "    DIM=64\n",
        "    for i in range(NUM_CIRCLE_DOTS):\n",
        "        for r in range(int(radius), int(radius)+width):\n",
        "            rad = TWO_PI * i/NUM_CIRCLE_DOTS\n",
        "            x = int(round(r*math.cos(rad)+xpos))\n",
        "            y = int(round(-r*math.sin(rad)+ypos))\n",
        "            if x >= 0 and x < DIM and y >= 0 and y < DIM:\n",
        "                data[x,y] = data[x,y] - darkness\n"
      ],
      "execution_count": 0,
      "outputs": []
    },
    {
      "metadata": {
        "id": "8UFMwj6nO06y",
        "colab_type": "text"
      },
      "cell_type": "markdown",
      "source": [
        "# Synthetic Data"
      ]
    },
    {
      "metadata": {
        "id": "B-qW3Vv0MvO3",
        "colab_type": "code",
        "colab": {}
      },
      "cell_type": "code",
      "source": [
        "from synthetic_datasets import NoiseCircle\n",
        "\n",
        "generator = next(NoiseCircle(batch_size=BATCH_SIZE, width=4))"
      ],
      "execution_count": 0,
      "outputs": []
    },
    {
      "metadata": {
        "id": "NMZJV9ln1p4N",
        "colab_type": "text"
      },
      "cell_type": "markdown",
      "source": [
        "# Visualizing the NoiseCircle synthetic dataset"
      ]
    },
    {
      "metadata": {
        "id": "iHqqn8jogEC2",
        "colab_type": "code",
        "colab": {}
      },
      "cell_type": "code",
      "source": [
        ""
      ],
      "execution_count": 0,
      "outputs": []
    },
    {
      "metadata": {
        "id": "EddZXWQV04Gu",
        "colab_type": "code",
        "colab": {}
      },
      "cell_type": "code",
      "source": [
        "\n",
        "batch, _ = next(generator)\n",
        "plot_dataset(batch)"
      ],
      "execution_count": 0,
      "outputs": []
    },
    {
      "metadata": {
        "id": "bkJJgwrRQkCU",
        "colab_type": "text"
      },
      "cell_type": "markdown",
      "source": [
        "# Keras Functional API - Creating a neural network with 3 subnets"
      ]
    },
    {
      "metadata": {
        "id": "yPPVqFMvQ4gC",
        "colab_type": "text"
      },
      "cell_type": "markdown",
      "source": [
        "#"
      ]
    },
    {
      "metadata": {
        "id": "oqEhJ_JkQh0_",
        "colab_type": "code",
        "colab": {}
      },
      "cell_type": "code",
      "source": [
        "from keras.models import Model\n",
        "from keras.layers import Input, Reshape, SeparableConv2D, Conv2D, MaxPooling2D, Dense, Flatten, AveragePooling2D, UpSampling2D, BatchNormalization, Lambda\n",
        "from keras.optimizers import Adam\n",
        "from keras.layers.merge import add\n",
        "\n",
        "F  = 48      # The number of filters in each convolutional layer\n",
        "N  = 48      # Used to size the dense layers\n",
        "KS = (7,7)   # The kernel size\n",
        "ACT = 'elu'\n",
        "LR  = 0.0001\n",
        "INIT = 'glorot_normal'\n",
        "PAD = 'same'\n",
        "\n",
        "\n",
        "\n",
        "i = a = Input(shape=(64,64))\n",
        "\n",
        "\n",
        "a = Reshape((64, 64, 1)) (a)\n",
        "\n",
        "\n",
        "a = Conv2D(F, KS, activation=ACT, kernel_initializer=INIT, padding=PAD) (a)\n",
        "a = Conv2D(F, KS, activation=ACT, kernel_initializer=INIT, padding=PAD) (a)\n",
        "a = Conv2D(F, KS, activation=ACT, kernel_initializer=INIT, padding=PAD) (a)\n",
        "a = Conv2D(F, KS, activation=ACT, kernel_initializer=INIT, padding=PAD) (a)\n",
        "a = AveragePooling2D()(a)\n",
        "\n",
        "a = Conv2D(F, KS, activation=ACT, kernel_initializer=INIT, padding=PAD) (a)\n",
        "a = AveragePooling2D()(a)\n",
        "\n",
        "a = Conv2D(F, KS, activation=ACT, kernel_initializer=INIT, padding=PAD) (a)\n",
        "a = BatchNormalization()(a)\n",
        "\n",
        "trunk = a\n",
        "\n",
        "\n",
        "# Subnet to predict the X coordinate\n",
        "x = Lambda(lambda q: q[:,:,:,:16])(trunk)\n",
        "x = Flatten() (x)\n",
        "x = Dense(N//2, activation=ACT, kernel_initializer=INIT) (x)\n",
        "x = Dense(N,    activation=ACT, kernel_initializer=INIT) (x)\n",
        "x = Dense(1,          name=\"X\", kernel_initializer=INIT) (x)\n",
        "\n",
        "\n",
        "# Subnet to predict the Y coordinate\n",
        "y = Lambda(lambda q: q[:,:,:,16:32])(trunk)\n",
        "y = Flatten() (y)\n",
        "y = Dense(N//2, activation=ACT, kernel_initializer=INIT) (y)\n",
        "y = Dense(N,    activation=ACT, kernel_initializer=INIT) (y)\n",
        "y = Dense(1,          name=\"Y\", kernel_initializer=INIT) (y)\n",
        "\n",
        "\n",
        "# Subnet to predict the Radius\n",
        "r = Lambda(lambda q: q[:,:,:,32:48])(trunk)\n",
        "r = Flatten() (r)\n",
        "r = Dense(N//2, activation=ACT, kernel_initializer=INIT) (r)\n",
        "r = Dense(N,    activation=ACT, kernel_initializer=INIT) (r)\n",
        "r = Dense(1,          name=\"R\", kernel_initializer=INIT) (r)\n",
        "\n",
        "\n",
        "model = Model(inputs = i, outputs = [x, y, r])\n",
        "model.compile(optimizer=Adam(LR, beta_1=0.5, beta_2=0.99), loss='mse')\n",
        "\n",
        "\n",
        "\n",
        "print(model.summary())\n",
        "\n",
        "model.fit_generator(generator, steps_per_epoch=20, epochs=50)\n",
        "\n",
        "\n"
      ],
      "execution_count": 0,
      "outputs": []
    },
    {
      "metadata": {
        "id": "mv9hiyHs7bpw",
        "colab_type": "code",
        "colab": {}
      },
      "cell_type": "code",
      "source": [
        "\n",
        "\n",
        "\n",
        "combined = []\n",
        "for k in range(25):\n",
        "  batch, _ = next(generator)\n",
        "  p = model.predict(batch)\n",
        "  for i, sample in enumerate(batch):\n",
        "      add_circle(sample, p[0][i][0], p[1][i][0], p[2][i][0], -.5, 4)  # The prediction will appear bright\n",
        "      combined.append(sample)\n",
        "\n",
        "\n",
        "plot_dataset(np.array(combined))"
      ],
      "execution_count": 0,
      "outputs": []
    }
  ]
}