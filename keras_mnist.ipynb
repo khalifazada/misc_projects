{
  "nbformat": 4,
  "nbformat_minor": 0,
  "metadata": {
    "colab": {
      "name": "keras-mnist.ipynb",
      "version": "0.3.2",
      "provenance": []
    },
    "kernelspec": {
      "name": "python3",
      "display_name": "Python 3"
    },
    "accelerator": "GPU"
  },
  "cells": [
    {
      "metadata": {
        "id": "60WJfI5P8hhk",
        "colab_type": "code",
        "colab": {},
        "outputId": "e738dc0a-6ba5-40fc-f357-8889a41c7f40"
      },
      "cell_type": "code",
      "source": [
        "import keras"
      ],
      "execution_count": 0,
      "outputs": []
    },
    {
      "metadata": {
        "id": "oDqePXgB8n6M",
        "colab_type": "code",
        "colab": {},
        "cellView": "code"
      },
      "cell_type": "code",
      "source": [
        "from keras import Sequential\n",
        "from keras.datasets import mnist\n",
        "from keras.layers import Conv2D, Dense, Dropout, Activation, Reshape, MaxPooling2D, Flatten\n",
        "from keras.utils import to_categorical\n",
        "\n",
        "(x, y), (xt, yt) = mnist.load_data()\n",
        "\n",
        "y   = to_categorical(y,  10)\n",
        "yt  = to_categorical(yt, 10)\n",
        "\n",
        "\n",
        "model = Sequential([\n",
        "\n",
        "    Reshape((28, 28, 1), input_shape=(28,28)),\n",
        "    \n",
        "    Conv2D(64, (3,3)),\n",
        "    Dropout(0.2),\n",
        "    MaxPooling2D(),\n",
        "    \n",
        "    Conv2D(64, (3,3)),\n",
        "    Dropout(0.2),\n",
        "    MaxPooling2D(),\n",
        "    \n",
        "    Flatten(),\n",
        "    \n",
        "    Dense(64, activation='relu'),\n",
        "    Dense(10, activation='softmax')\n",
        "])\n",
        "\n",
        "\n",
        "model.compile(optimizer='adam', loss='categorical_crossentropy', metrics=['accuracy'])\n",
        "model.fit(x, y, epochs=10, batch_size=2048, validation_data=(xt, yt), shuffle=True)\n",
        "\n"
      ],
      "execution_count": 0,
      "outputs": []
    }
  ]
}